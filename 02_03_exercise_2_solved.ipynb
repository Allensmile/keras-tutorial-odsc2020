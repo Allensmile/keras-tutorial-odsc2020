{
  "nbformat": 4,
  "nbformat_minor": 0,
  "metadata": {
    "colab": {
      "name": "02-03-exercise-2-solved.ipynb",
      "provenance": [],
      "collapsed_sections": [],
      "authorship_tag": "ABX9TyMvX60s3ld6wiHDUpTJcLJ4",
      "include_colab_link": true
    },
    "kernelspec": {
      "name": "python3",
      "display_name": "Python 3"
    },
    "accelerator": "GPU"
  },
  "cells": [
    {
      "cell_type": "markdown",
      "metadata": {
        "id": "view-in-github",
        "colab_type": "text"
      },
      "source": [
        "<a href=\"https://colab.research.google.com/github/sujitpal/keras-tutorial-odsc2020/blob/master/02_03_exercise_2_solved.ipynb\" target=\"_parent\"><img src=\"https://colab.research.google.com/assets/colab-badge.svg\" alt=\"Open In Colab\"/></a>"
      ]
    },
    {
      "cell_type": "markdown",
      "metadata": {
        "id": "-wMS3MvTiLfZ"
      },
      "source": [
        "# Exercise 2\n",
        "\n",
        "In this exercise we will put together things that we have learned in this session. Our tasks are as follows:\n",
        "\n",
        "* Build a transfer learning based classifier for the [CIFAR-10 dataset](https://www.tensorflow.org/api_docs/python/tf/keras/datasets/cifar10) by combining the base layers of an [VGG-16 model trained on ImageNet](https://www.tensorflow.org/api_docs/python/tf/keras/applications/VGG16) and a 2 layer Dense network.\n",
        "  * Make sure the output of the VGG16 is followed by a BatchNorm layer, and the Dense layers have Dropouts.\n",
        "* Train the network with transfer learning.\n",
        "* Evaluate the performance of the model against the CIFAR-10 test set.\n",
        "* Use the [ImageDataGenerator](https://www.tensorflow.org/api_docs/python/tf/keras/preprocessing/image/ImageDataGenerator) to do data augmentation and retrain the network.\n",
        "* Evaluate the performance again.\n",
        "* Use the Learning Rate Finder to determine a good range of learning rates for the model (with data augmentation).\n",
        "* Use a Cyclic Learning Rate (CLR) schedule to retrain the augmented transfer learning model.\n",
        "* Evaluate the performance again.\n",
        "* Present your findings.\n",
        "\n",
        "__NOTE__: Make sure you have your runtime set to GPU for this notebook."
      ]
    },
    {
      "cell_type": "code",
      "metadata": {
        "id": "xsLCCnNcmcbH"
      },
      "source": [
        "import matplotlib.pyplot as plt\n",
        "import numpy as np\n",
        "\n",
        "import tensorflow as tf\n",
        "import tensorflow.keras as keras\n",
        "\n",
        "%matplotlib inline"
      ],
      "execution_count": 1,
      "outputs": []
    },
    {
      "cell_type": "markdown",
      "metadata": {
        "id": "pUm7odA5l4Im"
      },
      "source": [
        "## Get the data\n",
        "\n",
        "We have already seen the CIFAR-10 dataset. From [it's website](https://www.cs.toronto.edu/~kriz/cifar.html), it is a collection of (32, 32, 3) color images, with 50,000 images in its training set and 10,000 images in its test set."
      ]
    },
    {
      "cell_type": "code",
      "metadata": {
        "id": "GtgwUrK5o5Fx"
      },
      "source": [
        "CIFAR10_CLASSES = [\n",
        "  \"airplane\", \"automobile\", \"bird\", \"cat\", \"deer\",\n",
        "  \"dog\", \"frog\", \"horse\", \"ship\", \"truck\"\n",
        "]"
      ],
      "execution_count": 2,
      "outputs": []
    },
    {
      "cell_type": "code",
      "metadata": {
        "id": "e5BdG8v5h_-0",
        "colab": {
          "base_uri": "https://localhost:8080/"
        },
        "outputId": "c2f6af10-1a7c-491b-aa3d-f4f8341a8747"
      },
      "source": [
        "# TODO: get the data from Keras built-in datasets\n",
        "(Xtrain, ytrain), (Xtest, ytest) = keras.datasets.cifar10.load_data()\n",
        "print(Xtrain.shape, ytrain.shape, Xtest.shape, ytest.shape)"
      ],
      "execution_count": 3,
      "outputs": [
        {
          "output_type": "stream",
          "text": [
            "Downloading data from https://www.cs.toronto.edu/~kriz/cifar-10-python.tar.gz\n",
            "170500096/170498071 [==============================] - 2s 0us/step\n",
            "(50000, 32, 32, 3) (50000, 1) (10000, 32, 32, 3) (10000, 1)\n"
          ],
          "name": "stdout"
        }
      ]
    },
    {
      "cell_type": "code",
      "metadata": {
        "id": "Bs8iQLnzmxq5"
      },
      "source": [
        "# TODO: convert training and test labels to categorical (one-hot) format\n",
        "ytrain = keras.utils.to_categorical(ytrain, num_classes=len(CIFAR10_CLASSES))\n",
        "ytest = keras.utils.to_categorical(ytest, num_classes=len(CIFAR10_CLASSES))"
      ],
      "execution_count": 4,
      "outputs": []
    },
    {
      "cell_type": "markdown",
      "metadata": {
        "id": "_BOLRpF-pX3n"
      },
      "source": [
        "## Task 1: Build Transfer Learning Classifer\n",
        "\n",
        "Download the pre-trained InceptionV3 network from `keras.applications`, set it up as a layer, and add in your 3-layer Dense network.\n",
        "\n",
        "Remember to wrap the model in a `build_model` function, as you will be re-using the code to do this in later tasks as well.\n",
        "\n",
        "Compile the model using the Adam optimizer, Categorical Cross Entropy loss, and Accuracy metric."
      ]
    },
    {
      "cell_type": "code",
      "metadata": {
        "id": "NY-azvuApRjp",
        "colab": {
          "base_uri": "https://localhost:8080/"
        },
        "outputId": "62fc417e-413c-4e98-c3eb-33c8cb27e2cf"
      },
      "source": [
        "from keras.applications.vgg16 import VGG16, preprocess_input\n",
        "\n",
        "# TODO: download pretrained Inception V3 network (include_top=False)\n",
        "base_model = VGG16(weights=\"imagenet\", input_shape=(32, 32, 3), include_top=False)"
      ],
      "execution_count": 5,
      "outputs": [
        {
          "output_type": "stream",
          "text": [
            "Downloading data from https://storage.googleapis.com/tensorflow/keras-applications/vgg16/vgg16_weights_tf_dim_ordering_tf_kernels_notop.h5\n",
            "58892288/58889256 [==============================] - 0s 0us/step\n"
          ],
          "name": "stdout"
        }
      ]
    },
    {
      "cell_type": "code",
      "metadata": {
        "id": "0WZOkFH9qJLq"
      },
      "source": [
        "# TODO: preprocess the training and test images using the InceptionV3 means\n",
        "Xtrain = preprocess_input(Xtrain)\n",
        "Xtest = preprocess_input(Xtest)"
      ],
      "execution_count": 6,
      "outputs": []
    },
    {
      "cell_type": "code",
      "metadata": {
        "id": "KHvVXV9zraCz"
      },
      "source": [
        "# TODO: set up the model, remember to wrap this in a build_model() function.\n",
        "def build_model():\n",
        "  x = base_model.output\n",
        "  x = keras.layers.GlobalAveragePooling2D()(x)\n",
        "  x = keras.layers.BatchNormalization()(x)\n",
        "  x = keras.layers.Dropout(0.2)(x)\n",
        "  x = keras.layers.Dense(1024, activation='relu')(x)\n",
        "  x = keras.layers.Dropout(0.2)(x)\n",
        "  outputs = keras.layers.Dense(10, activation='softmax')(x)\n",
        "  model = keras.models.Model(inputs=base_model.input, outputs=outputs)\n",
        "\n",
        "# TODO: freeze the base model layers, i.e. make them non-trainable\n",
        "  for layer in base_model.layers:\n",
        "      layer.trainable = False\n",
        "\n",
        "  return model\n",
        "\n",
        "\n",
        "model_t1 = build_model()"
      ],
      "execution_count": 7,
      "outputs": []
    },
    {
      "cell_type": "code",
      "metadata": {
        "id": "GqdOzZKlreqS"
      },
      "source": [
        "# TODO: freeze the base model layers, i.e. make them non-trainable\n",
        "#       consider lifting this code block into your build_model function."
      ],
      "execution_count": 8,
      "outputs": []
    },
    {
      "cell_type": "code",
      "metadata": {
        "id": "5MpSGyBsr3bF"
      },
      "source": [
        "# TODO: compile the model with Adam optimizer, Categorical Cross Entropy loss\n",
        "#       and Accuracy metric.\n",
        "model_t1.compile(optimizer=\"rmsprop\", loss=\"categorical_crossentropy\", \n",
        "                 metrics=[\"accuracy\"])"
      ],
      "execution_count": 9,
      "outputs": []
    },
    {
      "cell_type": "markdown",
      "metadata": {
        "id": "oqCvsS80suSm"
      },
      "source": [
        "## Task 2: Train Network\n",
        "\n",
        "Train the network for 50 epochs, using a batch size of 64. Use 20% of the training data for inline validation during the training."
      ]
    },
    {
      "cell_type": "code",
      "metadata": {
        "id": "gcN1uF5HsSJ3",
        "colab": {
          "base_uri": "https://localhost:8080/"
        },
        "outputId": "34483563-7687-4c3f-95f9-8f89e5e591c0"
      },
      "source": [
        "# TODO: train network, save history for later\n",
        "history_t1 = model_t1.fit(Xtrain, ytrain, batch_size=64, epochs=10, validation_split=0.2)"
      ],
      "execution_count": 10,
      "outputs": [
        {
          "output_type": "stream",
          "text": [
            "Epoch 1/10\n",
            "625/625 [==============================] - 9s 14ms/step - loss: 1.2803 - accuracy: 0.5716 - val_loss: 1.0580 - val_accuracy: 0.6464\n",
            "Epoch 2/10\n",
            "625/625 [==============================] - 9s 14ms/step - loss: 1.0936 - accuracy: 0.6289 - val_loss: 1.0087 - val_accuracy: 0.6614\n",
            "Epoch 3/10\n",
            "625/625 [==============================] - 9s 14ms/step - loss: 1.0228 - accuracy: 0.6517 - val_loss: 1.0197 - val_accuracy: 0.6589\n",
            "Epoch 4/10\n",
            "625/625 [==============================] - 9s 14ms/step - loss: 0.9799 - accuracy: 0.6702 - val_loss: 1.0012 - val_accuracy: 0.6714\n",
            "Epoch 5/10\n",
            "625/625 [==============================] - 9s 14ms/step - loss: 0.9430 - accuracy: 0.6803 - val_loss: 1.0437 - val_accuracy: 0.6748\n",
            "Epoch 6/10\n",
            "625/625 [==============================] - 9s 14ms/step - loss: 0.9076 - accuracy: 0.6923 - val_loss: 1.0548 - val_accuracy: 0.6711\n",
            "Epoch 7/10\n",
            "625/625 [==============================] - 9s 14ms/step - loss: 0.8751 - accuracy: 0.7037 - val_loss: 1.0659 - val_accuracy: 0.6770\n",
            "Epoch 8/10\n",
            "625/625 [==============================] - 9s 14ms/step - loss: 0.8556 - accuracy: 0.7130 - val_loss: 1.0760 - val_accuracy: 0.6813\n",
            "Epoch 9/10\n",
            "625/625 [==============================] - 9s 14ms/step - loss: 0.8399 - accuracy: 0.7171 - val_loss: 1.1254 - val_accuracy: 0.6770\n",
            "Epoch 10/10\n",
            "625/625 [==============================] - 9s 14ms/step - loss: 0.8237 - accuracy: 0.7242 - val_loss: 1.1138 - val_accuracy: 0.6822\n"
          ],
          "name": "stdout"
        }
      ]
    },
    {
      "cell_type": "code",
      "metadata": {
        "id": "6v8AcO73tFWL"
      },
      "source": [
        "def plot_training_curves(history):\n",
        "  plt.figure(figsize=(10, 5))\n",
        "\n",
        "  plt.subplot(1, 2, 1)\n",
        "  plt.plot(history.history[\"loss\"], label=\"train\")\n",
        "  plt.plot(history.history[\"val_loss\"], label=\"validation\")\n",
        "  plt.xlabel(\"epochs\")\n",
        "  plt.ylabel(\"loss\")\n",
        "  plt.legend(loc=\"best\")\n",
        "\n",
        "  plt.subplot(1, 2, 2)  \n",
        "  plt.plot(history.history[\"accuracy\"], label=\"train\")\n",
        "  plt.plot(history.history[\"val_accuracy\"], label=\"validation\")\n",
        "  plt.xlabel(\"epochs\")\n",
        "  plt.ylabel(\"accuracy\")\n",
        "  plt.legend(loc=\"best\")\n",
        "\n",
        "\n",
        "  plt.tight_layout()\n",
        "  _ = plt.show()"
      ],
      "execution_count": 11,
      "outputs": []
    },
    {
      "cell_type": "code",
      "metadata": {
        "id": "te7fMxcF1wr4",
        "colab": {
          "base_uri": "https://localhost:8080/",
          "height": 369
        },
        "outputId": "984de0fb-4e5f-47dc-e36d-7182f09248ad"
      },
      "source": [
        "# TODO: plot the loss and accuracy plots for your training\n",
        "plot_training_curves(history_t1)"
      ],
      "execution_count": 12,
      "outputs": [
        {
          "output_type": "display_data",
          "data": {
            "image/png": "[encoded data removed]",
            "text/plain": [
              "<Figure size 720x360 with 2 Axes>"
            ]
          },
          "metadata": {
            "tags": [],
            "needs_background": "light"
          }
        }
      ]
    },
    {
      "cell_type": "markdown",
      "metadata": {
        "id": "Ttji0poA2WmD"
      },
      "source": [
        "## Task 3: Evaluate Network\n",
        "\n",
        "Use the `model.evaluate()` function against the test set. First element in the returned array is the test loss, and second element is the test accuracy."
      ]
    },
    {
      "cell_type": "code",
      "metadata": {
        "id": "g_pI5UWd2cBr",
        "colab": {
          "base_uri": "https://localhost:8080/"
        },
        "outputId": "ca6ef386-e9ee-460b-dc6d-fec152b2b8d8"
      },
      "source": [
        "# TODO: evaluate the network you just trained\n",
        "scores_t1 = model_t1.evaluate(Xtest, ytest)\n",
        "print(\"Model T1: test set loss: {:.5f}, accuracy: {:.5f}\".format(scores_t1[0], scores_t1[1]))"
      ],
      "execution_count": 13,
      "outputs": [
        {
          "output_type": "stream",
          "text": [
            "313/313 [==============================] - 3s 8ms/step - loss: 1.1344 - accuracy: 0.6749\n",
            "Model T1: test set loss: 1.13438, accuracy: 0.67490\n"
          ],
          "name": "stdout"
        }
      ]
    },
    {
      "cell_type": "markdown",
      "metadata": {
        "id": "-twdZocy2u7s"
      },
      "source": [
        "## Task 4: Augment Data and Retrain\n",
        "\n",
        "Data Augmentor should have the following parameters at minimum, plus any you feel is relevant to your dataset. See [ImageDataGenerator docs](https://www.tensorflow.org/api_docs/python/tf/keras/preprocessing/image/ImageDataGenerator) for full list of possible operations.\n",
        "\n",
        "* rotation_range = 30\n",
        "* width_shift_range = 0.2\n",
        "* height_shift_range = 0.2\n",
        "* horizontal_flip = True"
      ]
    },
    {
      "cell_type": "code",
      "metadata": {
        "id": "JAcml5vQ2mHk"
      },
      "source": [
        "from keras.preprocessing.image import ImageDataGenerator\n",
        "\n",
        "# TODO: declare an image data generator that allows the operations listed\n",
        "image_generator = ImageDataGenerator(\n",
        "    rotation_range=30,\n",
        "    width_shift_range=0.2,\n",
        "    height_shift_range=0.2,\n",
        "    horizontal_flip=True)"
      ],
      "execution_count": 14,
      "outputs": []
    },
    {
      "cell_type": "code",
      "metadata": {
        "id": "t2jwn_iI889Z"
      },
      "source": [
        "# TODO: define model (again, reuse by calling the build_model function you defined earlier)\n",
        "model_t2 = build_model()\n",
        "\n",
        "# TODO: compile this new model (call this model_t2 to differentiate from previous model)\n",
        "model_t2.compile(optimizer=\"adam\", loss=\"categorical_crossentropy\", metrics=[\"accuracy\"])"
      ],
      "execution_count": 15,
      "outputs": []
    },
    {
      "cell_type": "code",
      "metadata": {
        "id": "Ysa3P8wO98p2",
        "colab": {
          "base_uri": "https://localhost:8080/"
        },
        "outputId": "576c487a-9f86-49ca-88f5-1ce6ec2ee851"
      },
      "source": [
        "from sklearn.model_selection import train_test_split\n",
        "\n",
        "# TODO: split the training dataset 80/20 for training vs inline validation. This is \n",
        "#       because you don't want to get augmented versions of the validation set.\n",
        "X_train, X_val, y_train, y_val = train_test_split(Xtrain, ytrain, test_size=0.2, random_state=1)\n",
        "X_train.shape, y_train.shape, X_val.shape, y_val.shape"
      ],
      "execution_count": 16,
      "outputs": [
        {
          "output_type": "execute_result",
          "data": {
            "text/plain": [
              "((40000, 32, 32, 3), (40000, 10), (10000, 32, 32, 3), (10000, 10))"
            ]
          },
          "metadata": {
            "tags": []
          },
          "execution_count": 16
        }
      ]
    },
    {
      "cell_type": "code",
      "metadata": {
        "id": "bKFBNWGp9Lg8",
        "colab": {
          "base_uri": "https://localhost:8080/"
        },
        "outputId": "01307090-23b0-4809-c35c-87a1cf4dc55c"
      },
      "source": [
        "# TODO: fit the model using the ImageDataGenerator, using batch size of 64 and\n",
        "#       10 epochs of training.\n",
        "history_t2 = model_t2.fit(image_generator.flow(X_train, y_train, batch_size=64),\n",
        "                          steps_per_epoch=X_train.shape[0] // 64,\n",
        "                          epochs=20,\n",
        "                          validation_data=(X_val, y_val))"
      ],
      "execution_count": 17,
      "outputs": [
        {
          "output_type": "stream",
          "text": [
            "Epoch 1/20\n",
            "625/625 [==============================] - 23s 37ms/step - loss: 1.4733 - accuracy: 0.4951 - val_loss: 1.0901 - val_accuracy: 0.6129\n",
            "Epoch 2/20\n",
            "625/625 [==============================] - 22s 36ms/step - loss: 1.3055 - accuracy: 0.5333 - val_loss: 1.0475 - val_accuracy: 0.6287\n",
            "Epoch 3/20\n",
            "625/625 [==============================] - 23s 36ms/step - loss: 1.2482 - accuracy: 0.5566 - val_loss: 1.0455 - val_accuracy: 0.6241\n",
            "Epoch 4/20\n",
            "625/625 [==============================] - 22s 35ms/step - loss: 1.2217 - accuracy: 0.5641 - val_loss: 1.0091 - val_accuracy: 0.6469\n",
            "Epoch 5/20\n",
            "625/625 [==============================] - 22s 35ms/step - loss: 1.1917 - accuracy: 0.5776 - val_loss: 1.0237 - val_accuracy: 0.6400\n",
            "Epoch 6/20\n",
            "625/625 [==============================] - 22s 35ms/step - loss: 1.1825 - accuracy: 0.5787 - val_loss: 0.9863 - val_accuracy: 0.6554\n",
            "Epoch 7/20\n",
            "625/625 [==============================] - 22s 35ms/step - loss: 1.1699 - accuracy: 0.5820 - val_loss: 0.9866 - val_accuracy: 0.6590\n",
            "Epoch 8/20\n",
            "625/625 [==============================] - 22s 35ms/step - loss: 1.1519 - accuracy: 0.5888 - val_loss: 0.9769 - val_accuracy: 0.6608\n",
            "Epoch 9/20\n",
            "625/625 [==============================] - 22s 35ms/step - loss: 1.1445 - accuracy: 0.5939 - val_loss: 0.9893 - val_accuracy: 0.6573\n",
            "Epoch 10/20\n",
            "625/625 [==============================] - 22s 35ms/step - loss: 1.1362 - accuracy: 0.5949 - val_loss: 0.9620 - val_accuracy: 0.6655\n",
            "Epoch 11/20\n",
            "625/625 [==============================] - 22s 35ms/step - loss: 1.1305 - accuracy: 0.6022 - val_loss: 0.9782 - val_accuracy: 0.6585\n",
            "Epoch 12/20\n",
            "625/625 [==============================] - 22s 35ms/step - loss: 1.1239 - accuracy: 0.6016 - val_loss: 0.9647 - val_accuracy: 0.6653\n",
            "Epoch 13/20\n",
            "625/625 [==============================] - 22s 36ms/step - loss: 1.1178 - accuracy: 0.6051 - val_loss: 0.9629 - val_accuracy: 0.6684\n",
            "Epoch 14/20\n",
            "625/625 [==============================] - 22s 36ms/step - loss: 1.1105 - accuracy: 0.6065 - val_loss: 0.9701 - val_accuracy: 0.6654\n",
            "Epoch 15/20\n",
            "625/625 [==============================] - 22s 35ms/step - loss: 1.1126 - accuracy: 0.6043 - val_loss: 0.9620 - val_accuracy: 0.6736\n",
            "Epoch 16/20\n",
            "625/625 [==============================] - 22s 35ms/step - loss: 1.0962 - accuracy: 0.6106 - val_loss: 0.9502 - val_accuracy: 0.6706\n",
            "Epoch 17/20\n",
            "625/625 [==============================] - 23s 36ms/step - loss: 1.1002 - accuracy: 0.6086 - val_loss: 0.9651 - val_accuracy: 0.6664\n",
            "Epoch 18/20\n",
            "625/625 [==============================] - 22s 35ms/step - loss: 1.0931 - accuracy: 0.6137 - val_loss: 0.9501 - val_accuracy: 0.6708\n",
            "Epoch 19/20\n",
            "625/625 [==============================] - 22s 35ms/step - loss: 1.0931 - accuracy: 0.6119 - val_loss: 0.9548 - val_accuracy: 0.6712\n",
            "Epoch 20/20\n",
            "625/625 [==============================] - 22s 36ms/step - loss: 1.0807 - accuracy: 0.6165 - val_loss: 0.9461 - val_accuracy: 0.6742\n"
          ],
          "name": "stdout"
        }
      ]
    },
    {
      "cell_type": "code",
      "metadata": {
        "id": "22eirJIh-jNo",
        "colab": {
          "base_uri": "https://localhost:8080/",
          "height": 369
        },
        "outputId": "a153f8a1-6899-4322-b80d-6a293dc0a3ea"
      },
      "source": [
        "# TODO: plot the loss and accuracy plots for your training\n",
        "plot_training_curves(history_t2)"
      ],
      "execution_count": 18,
      "outputs": [
        {
          "output_type": "display_data",
          "data": {
            "image/png": "[encoded data removed]",
            "text/plain": [
              "<Figure size 720x360 with 2 Axes>"
            ]
          },
          "metadata": {
            "tags": [],
            "needs_background": "light"
          }
        }
      ]
    },
    {
      "cell_type": "markdown",
      "metadata": {
        "id": "C3jr6zQw_6zm"
      },
      "source": [
        "## Task 5: Evaluate Performance"
      ]
    },
    {
      "cell_type": "code",
      "metadata": {
        "id": "Z0fZvNK5_y9u",
        "colab": {
          "base_uri": "https://localhost:8080/"
        },
        "outputId": "681634bf-1778-42d3-a7cf-c3e91adbfb86"
      },
      "source": [
        "# TODO: evaluate the network you just trained\n",
        "scores_t2 = model_t2.evaluate(Xtest, ytest)\n",
        "print(\"Model T1: test set loss: {:.5f}, accuracy: {:.5f}\".format(scores_t2[0], scores_t2[1]))"
      ],
      "execution_count": 19,
      "outputs": [
        {
          "output_type": "stream",
          "text": [
            "313/313 [==============================] - 3s 9ms/step - loss: 0.9645 - accuracy: 0.6655\n",
            "Model T1: test set loss: 0.96446, accuracy: 0.66550\n"
          ],
          "name": "stdout"
        }
      ]
    },
    {
      "cell_type": "markdown",
      "metadata": {
        "id": "KyauCk2WOJh_"
      },
      "source": [
        "## Task 6: LR Finder\n",
        "\n",
        "We want to find a good range for Learning Rates to use with our Cyclic Learning Rate schedule."
      ]
    },
    {
      "cell_type": "code",
      "metadata": {
        "id": "6s3w9_neAB83"
      },
      "source": [
        "import math\n",
        "from keras.callbacks import LambdaCallback\n",
        "import numpy as np\n",
        "\n",
        "class LRFinder:\n",
        "    def __init__(self, model):\n",
        "        self.model = model\n",
        "        self.losses = []\n",
        "        self.lrs = []\n",
        "        self.best_loss = 1e9\n",
        "\n",
        "    def on_batch_end(self, batch, logs):\n",
        "        # Log the learning rate\n",
        "        # lr = K.get_value(self.model.optimizer.lr)\n",
        "        lr = keras.backend.get_value(self.model.optimizer.lr)\n",
        "        self.lrs.append(lr)\n",
        "\n",
        "        # Log the loss\n",
        "        loss = logs['loss']\n",
        "        self.losses.append(loss)\n",
        "\n",
        "        # Check whether the loss got too large or NaN\n",
        "        if batch > 5 and (math.isnan(loss) or loss > self.best_loss * 4):\n",
        "            self.model.stop_training = True\n",
        "            return\n",
        "\n",
        "        if loss < self.best_loss:\n",
        "            self.best_loss = loss\n",
        "\n",
        "        # Increase the learning rate for the next batch\n",
        "        lr *= self.lr_mult\n",
        "        # K.set_value(self.model.optimizer.lr, lr)\n",
        "        keras.backend.set_value(self.model.optimizer.lr, lr)\n",
        "\n",
        "    def find(self, x_train, y_train, start_lr, end_lr, batch_size=64, epochs=1, **kw_fit):\n",
        "        # If x_train contains data for multiple inputs, use length of the first input.\n",
        "        # Assumption: the first element in the list is single input; NOT a list of inputs.\n",
        "        N = x_train[0].shape[0] if isinstance(x_train, list) else x_train.shape[0]\n",
        "\n",
        "        # Compute number of batches and LR multiplier\n",
        "        num_batches = epochs * N / batch_size\n",
        "        self.lr_mult = (float(end_lr) / float(start_lr)) ** (float(1) / float(num_batches))\n",
        "        # Save weights into a file\n",
        "        initial_weights = self.model.get_weights()\n",
        "\n",
        "        # Remember the original learning rate\n",
        "        # original_lr = K.get_value(self.model.optimizer.lr)\n",
        "        original_lr = keras.backend.get_value(self.model.optimizer.lr)\n",
        "\n",
        "        # Set the initial learning rate\n",
        "        # K.set_value(self.model.optimizer.lr, start_lr)\n",
        "        keras.backend.set_value(self.model.optimizer.lr, start_lr)\n",
        "\n",
        "        callback = LambdaCallback(on_batch_end=lambda batch, logs: self.on_batch_end(batch, logs))\n",
        "\n",
        "        self.model.fit(x_train, y_train,\n",
        "                       batch_size=batch_size, epochs=epochs,\n",
        "                       callbacks=[callback],\n",
        "                       **kw_fit)\n",
        "\n",
        "        # Restore the weights to the state before model fitting\n",
        "        self.model.set_weights(initial_weights)\n",
        "\n",
        "        # Restore the original learning rate\n",
        "        # K.set_value(self.model.optimizer.lr, original_lr)\n",
        "        keras.backend.set_value(self.model.optimizer.lr, original_lr)\n",
        "\n",
        "    def find_generator(self, generator, start_lr, end_lr, epochs=1, steps_per_epoch=None, **kw_fit):\n",
        "        if steps_per_epoch is None:\n",
        "            try:\n",
        "                steps_per_epoch = len(generator)\n",
        "            except (ValueError, NotImplementedError) as e:\n",
        "                raise e('`steps_per_epoch=None` is only valid for a'\n",
        "                        ' generator based on the '\n",
        "                        '`keras.utils.Sequence`'\n",
        "                        ' class. Please specify `steps_per_epoch` '\n",
        "                        'or use the `keras.utils.Sequence` class.')\n",
        "        self.lr_mult = (float(end_lr) / float(start_lr)) ** (float(1) / float(epochs * steps_per_epoch))\n",
        "\n",
        "        # Save weights into a file\n",
        "        initial_weights = self.model.get_weights()\n",
        "\n",
        "        # Remember the original learning rate\n",
        "        # original_lr = K.get_value(self.model.optimizer.lr)\n",
        "        original_lr = keras.backend.get_value(self.model.optimizer.lr)\n",
        "\n",
        "        # Set the initial learning rate\n",
        "        # K.set_value(self.model.optimizer.lr, start_lr)\n",
        "        keras.backend.set_value(self.model.optimizer.lr, start_lr)\n",
        "\n",
        "        callback = LambdaCallback(on_batch_end=lambda batch,\n",
        "                                                      logs: self.on_batch_end(batch, logs))\n",
        "\n",
        "        self.model.fit_generator(generator=generator,\n",
        "                                 epochs=epochs,\n",
        "                                 steps_per_epoch=steps_per_epoch,\n",
        "                                 callbacks=[callback],\n",
        "                                 **kw_fit)\n",
        "\n",
        "        # Restore the weights to the state before model fitting\n",
        "        self.model.set_weights(initial_weights)\n",
        "\n",
        "        # Restore the original learning rate\n",
        "        # K.set_value(self.model.optimizer.lr, original_lr)\n",
        "        keras.backend.set_value(self.model.optimizer.lr, original_lr)\n",
        "\n",
        "    def plot_loss(self, n_skip_beginning=10, n_skip_end=5, x_scale='log'):\n",
        "        \"\"\"\n",
        "        Plots the loss.\n",
        "        Parameters:\n",
        "            n_skip_beginning - number of batches to skip on the left.\n",
        "            n_skip_end - number of batches to skip on the right.\n",
        "        \"\"\"\n",
        "        plt.ylabel(\"loss\")\n",
        "        plt.xlabel(\"learning rate (log scale)\")\n",
        "        plt.plot(self.lrs[n_skip_beginning:-n_skip_end], self.losses[n_skip_beginning:-n_skip_end])\n",
        "        plt.xscale(x_scale)\n",
        "        plt.show()\n",
        "\n",
        "    def plot_loss_change(self, sma=1, n_skip_beginning=10, n_skip_end=5, y_lim=(-0.01, 0.01)):\n",
        "        \"\"\"\n",
        "        Plots rate of change of the loss function.\n",
        "        Parameters:\n",
        "            sma - number of batches for simple moving average to smooth out the curve.\n",
        "            n_skip_beginning - number of batches to skip on the left.\n",
        "            n_skip_end - number of batches to skip on the right.\n",
        "            y_lim - limits for the y axis.\n",
        "        \"\"\"\n",
        "        derivatives = self.get_derivatives(sma)[n_skip_beginning:-n_skip_end]\n",
        "        lrs = self.lrs[n_skip_beginning:-n_skip_end]\n",
        "        plt.ylabel(\"rate of loss change\")\n",
        "        plt.xlabel(\"learning rate (log scale)\")\n",
        "        plt.plot(lrs, derivatives)\n",
        "        plt.xscale('log')\n",
        "        plt.ylim(y_lim)\n",
        "        plt.show()\n",
        "\n",
        "    def get_derivatives(self, sma):\n",
        "        assert sma >= 1\n",
        "        derivatives = [0] * sma\n",
        "        for i in range(sma, len(self.lrs)):\n",
        "            derivatives.append((self.losses[i] - self.losses[i - sma]) / sma)\n",
        "        return derivatives\n",
        "\n",
        "    def get_best_lr(self, sma, n_skip_beginning=10, n_skip_end=5):\n",
        "        derivatives = self.get_derivatives(sma)\n",
        "        best_der_idx = np.argmin(derivatives[n_skip_beginning:-n_skip_end])\n",
        "        return self.lrs[n_skip_beginning:-n_skip_end][best_der_idx]"
      ],
      "execution_count": 20,
      "outputs": []
    },
    {
      "cell_type": "code",
      "metadata": {
        "id": "PLW0oBtKOzjm"
      },
      "source": [
        "# TODO: instantiate model and compile with optimizer=\"rmsprop\"\n",
        "model_lrf = build_model()\n",
        "model_lrf.compile(optimizer=\"rmsprop\", loss=\"categorical_crossentropy\", metrics=[\"accuracy\"])"
      ],
      "execution_count": 34,
      "outputs": []
    },
    {
      "cell_type": "code",
      "metadata": {
        "id": "zomsOu59TPYM",
        "colab": {
          "base_uri": "https://localhost:8080/"
        },
        "outputId": "c0e3fb9a-cf41-48e4-f4f2-885a8016829e"
      },
      "source": [
        "# TODO: instantiate the LRFinder and call find on it using a broad range of LR\n",
        "#       and 5 epochs of training\n",
        "lr_finder = LRFinder(model_lrf)\n",
        "lr_finder.find(Xtrain, ytrain, start_lr=1e-7, end_lr=1, batch_size=64, epochs=5)"
      ],
      "execution_count": 35,
      "outputs": [
        {
          "output_type": "stream",
          "text": [
            "Epoch 1/5\n",
            "782/782 [==============================] - 10s 12ms/step - loss: 2.6936 - accuracy: 0.0931\n",
            "Epoch 2/5\n",
            "782/782 [==============================] - 10s 12ms/step - loss: 2.0609 - accuracy: 0.2767\n",
            "Epoch 3/5\n",
            "782/782 [==============================] - 10s 12ms/step - loss: 1.2752 - accuracy: 0.5661\n",
            "Epoch 4/5\n",
            "782/782 [==============================] - 9s 12ms/step - loss: 1.5847 - accuracy: 0.5018\n",
            "Epoch 5/5\n",
            "782/782 [==============================] - 9s 12ms/step - loss: 6.6785 - accuracy: 0.1371\n"
          ],
          "name": "stdout"
        }
      ]
    },
    {
      "cell_type": "code",
      "metadata": {
        "id": "NK21OZuxPCjV",
        "colab": {
          "base_uri": "https://localhost:8080/",
          "height": 283
        },
        "outputId": "02f54c2f-c356-4279-96bd-23ac1ee1bb1c"
      },
      "source": [
        "# TODO: plot the loss for LRFinder (call plot_loss())\n",
        "lr_finder.plot_loss(n_skip_beginning=20, n_skip_end=5)"
      ],
      "execution_count": 36,
      "outputs": [
        {
          "output_type": "display_data",
          "data": {
            "image/png": "[encoded data removed]",
            "text/plain": [
              "<Figure size 432x288 with 1 Axes>"
            ]
          },
          "metadata": {
            "tags": [],
            "needs_background": "light"
          }
        }
      ]
    },
    {
      "cell_type": "code",
      "metadata": {
        "id": "tirfWvvxPECW",
        "colab": {
          "base_uri": "https://localhost:8080/",
          "height": 287
        },
        "outputId": "c097a9d8-78f6-471f-f34b-f7c6674829b6"
      },
      "source": [
        "# TODO: plot the change of loss for LRFinder (call plot_loss_change())\n",
        "lr_finder.plot_loss_change(sma=20, n_skip_beginning=20, n_skip_end=5, y_lim=(-0.01, 0.01))"
      ],
      "execution_count": 37,
      "outputs": [
        {
          "output_type": "display_data",
          "data": {
            "image/png": "[encoded data removed]",
            "text/plain": [
              "<Figure size 432x288 with 1 Axes>"
            ]
          },
          "metadata": {
            "tags": [],
            "needs_background": "light"
          }
        }
      ]
    },
    {
      "cell_type": "markdown",
      "metadata": {
        "id": "DEyWV7YxQ-_-"
      },
      "source": [
        "Based on plots above, reasonable values for upper bound for Learning Rate for CLR is around 1e-3.\n",
        "\n",
        "Lower bound should be about 1-2 orders of magnitude lower, so lower bound for CLR is around 1e-5."
      ]
    },
    {
      "cell_type": "markdown",
      "metadata": {
        "id": "4hMM_Yb9RO8N"
      },
      "source": [
        "## Task 7: Train with CLR"
      ]
    },
    {
      "cell_type": "code",
      "metadata": {
        "id": "WNvKDN_rQctl",
        "colab": {
          "base_uri": "https://localhost:8080/"
        },
        "outputId": "5666352a-bf71-4852-a4d1-0d7ee8118b96"
      },
      "source": [
        "%%bash\n",
        "(\n",
        "if [ ! -d \"CLR\" ]; then\n",
        "  git clone https://github.com/bckenstler/CLR\n",
        "fi\n",
        ")"
      ],
      "execution_count": 38,
      "outputs": [
        {
          "output_type": "stream",
          "text": [
            "Cloning into 'CLR'...\n"
          ],
          "name": "stderr"
        }
      ]
    },
    {
      "cell_type": "code",
      "metadata": {
        "id": "XP894KlhRzTG"
      },
      "source": [
        "from CLR.clr_callback import CyclicLR\n",
        "\n",
        "batch_size = 128\n",
        "step_size = 4 * Xtrain.shape[0] // batch_size\n",
        "clr = CyclicLR(mode=\"triangular2\",\n",
        "               base_lr=1e-5,\n",
        "               max_lr=1e-3,\n",
        "               step_size=step_size)"
      ],
      "execution_count": 39,
      "outputs": []
    },
    {
      "cell_type": "code",
      "metadata": {
        "id": "nBlEApGWR4XD",
        "colab": {
          "base_uri": "https://localhost:8080/"
        },
        "outputId": "9c047213-68cc-417c-ba66-4cf32a513e66"
      },
      "source": [
        "# TODO: instantiate a model, compile with SGD optimizer, categorical cross entropy loss,\n",
        "#       and accuracy metric, then train it for 10 epochs with batch size 64 and validation\n",
        "#       split of 20%. Remember to set the CLR as your learning rate scheduler callback.\n",
        "#       Also remember that you need to use data augmentation.\n",
        "model_t3 = build_model()\n",
        "\n",
        "model_t3.compile(optimizer=\"rmsprop\", loss=\"categorical_crossentropy\", metrics=[\"accuracy\"])\n",
        "history_t3 = model_t3.fit(image_generator.flow(X_train, y_train, batch_size=64),\n",
        "                          steps_per_epoch=X_train.shape[0] // 64,\n",
        "                          epochs=20, \n",
        "                          validation_data=(X_val, y_val),\n",
        "                          callbacks=[clr])"
      ],
      "execution_count": 40,
      "outputs": [
        {
          "output_type": "stream",
          "text": [
            "Epoch 1/20\n",
            "625/625 [==============================] - 24s 38ms/step - loss: 1.6807 - accuracy: 0.4163 - val_loss: 1.1633 - val_accuracy: 0.5943\n",
            "Epoch 2/20\n",
            "625/625 [==============================] - 23s 37ms/step - loss: 1.3936 - accuracy: 0.5192 - val_loss: 1.1408 - val_accuracy: 0.6028\n",
            "Epoch 3/20\n",
            "625/625 [==============================] - 23s 37ms/step - loss: 1.3591 - accuracy: 0.5344 - val_loss: 1.1074 - val_accuracy: 0.6212\n",
            "Epoch 4/20\n",
            "625/625 [==============================] - 23s 36ms/step - loss: 1.2662 - accuracy: 0.5592 - val_loss: 1.0440 - val_accuracy: 0.6405\n",
            "Epoch 5/20\n",
            "625/625 [==============================] - 23s 36ms/step - loss: 1.2077 - accuracy: 0.5772 - val_loss: 1.0056 - val_accuracy: 0.6527\n",
            "Epoch 6/20\n",
            "625/625 [==============================] - 23s 37ms/step - loss: 1.1881 - accuracy: 0.5846 - val_loss: 1.0059 - val_accuracy: 0.6552\n",
            "Epoch 7/20\n",
            "625/625 [==============================] - 23s 37ms/step - loss: 1.1837 - accuracy: 0.5878 - val_loss: 1.0484 - val_accuracy: 0.6468\n",
            "Epoch 8/20\n",
            "625/625 [==============================] - 23s 36ms/step - loss: 1.2001 - accuracy: 0.5863 - val_loss: 1.0506 - val_accuracy: 0.6437\n",
            "Epoch 9/20\n",
            "625/625 [==============================] - 23s 37ms/step - loss: 1.1799 - accuracy: 0.5875 - val_loss: 1.0045 - val_accuracy: 0.6602\n",
            "Epoch 10/20\n",
            "625/625 [==============================] - 23s 36ms/step - loss: 1.1535 - accuracy: 0.6007 - val_loss: 0.9891 - val_accuracy: 0.6676\n",
            "Epoch 11/20\n",
            "625/625 [==============================] - 23s 37ms/step - loss: 1.1486 - accuracy: 0.5982 - val_loss: 0.9831 - val_accuracy: 0.6678\n",
            "Epoch 12/20\n",
            "625/625 [==============================] - 23s 36ms/step - loss: 1.1501 - accuracy: 0.5990 - val_loss: 0.9985 - val_accuracy: 0.6633\n",
            "Epoch 13/20\n",
            "625/625 [==============================] - 23s 36ms/step - loss: 1.1535 - accuracy: 0.5994 - val_loss: 0.9789 - val_accuracy: 0.6673\n",
            "Epoch 14/20\n",
            "625/625 [==============================] - 23s 36ms/step - loss: 1.1402 - accuracy: 0.6000 - val_loss: 0.9776 - val_accuracy: 0.6699\n",
            "Epoch 15/20\n",
            "625/625 [==============================] - 23s 37ms/step - loss: 1.1328 - accuracy: 0.6072 - val_loss: 0.9745 - val_accuracy: 0.6716\n",
            "Epoch 16/20\n",
            "625/625 [==============================] - 23s 37ms/step - loss: 1.1248 - accuracy: 0.6095 - val_loss: 0.9708 - val_accuracy: 0.6713\n",
            "Epoch 17/20\n",
            "625/625 [==============================] - 23s 36ms/step - loss: 1.1267 - accuracy: 0.6093 - val_loss: 0.9720 - val_accuracy: 0.6694\n",
            "Epoch 18/20\n",
            "625/625 [==============================] - 23s 36ms/step - loss: 1.1292 - accuracy: 0.6073 - val_loss: 0.9812 - val_accuracy: 0.6678\n",
            "Epoch 19/20\n",
            "625/625 [==============================] - 23s 37ms/step - loss: 1.1200 - accuracy: 0.6080 - val_loss: 0.9699 - val_accuracy: 0.6705\n",
            "Epoch 20/20\n",
            "625/625 [==============================] - 23s 37ms/step - loss: 1.1137 - accuracy: 0.6109 - val_loss: 0.9628 - val_accuracy: 0.6759\n"
          ],
          "name": "stdout"
        }
      ]
    },
    {
      "cell_type": "code",
      "metadata": {
        "id": "n6Nm8hBSS2r5",
        "colab": {
          "base_uri": "https://localhost:8080/",
          "height": 369
        },
        "outputId": "a10557c2-a01f-4e6c-832e-21df4928e665"
      },
      "source": [
        "# TODO: plot the loss and accuracy plots for your training\n",
        "plot_training_curves(history_t3)"
      ],
      "execution_count": 41,
      "outputs": [
        {
          "output_type": "display_data",
          "data": {
            "image/png": "[encoded data removed]",
            "text/plain": [
              "<Figure size 720x360 with 2 Axes>"
            ]
          },
          "metadata": {
            "tags": [],
            "needs_background": "light"
          }
        }
      ]
    },
    {
      "cell_type": "markdown",
      "metadata": {
        "id": "t4MeLkHsUKVD"
      },
      "source": [
        "## Task 8: Evaluate CLR based training"
      ]
    },
    {
      "cell_type": "code",
      "metadata": {
        "id": "CcMn_J9bUHha",
        "colab": {
          "base_uri": "https://localhost:8080/"
        },
        "outputId": "86734f7b-a9a4-4083-f203-e279fc2c6e4e"
      },
      "source": [
        "# TODO: evaluate the network you just trained\n",
        "scores_t3 = model_t3.evaluate(Xtest, ytest)\n",
        "print(\"Model T1: test set loss: {:.5f}, accuracy: {:.5f}\".format(scores_t3[0], scores_t3[1]))"
      ],
      "execution_count": 42,
      "outputs": [
        {
          "output_type": "stream",
          "text": [
            "313/313 [==============================] - 3s 9ms/step - loss: 0.9933 - accuracy: 0.6689\n",
            "Model T1: test set loss: 0.99328, accuracy: 0.66890\n"
          ],
          "name": "stdout"
        }
      ]
    },
    {
      "cell_type": "markdown",
      "metadata": {
        "id": "AaKhspC3UbQI"
      },
      "source": [
        "## Task 9: Summarize your findings"
      ]
    },
    {
      "cell_type": "code",
      "metadata": {
        "id": "uUKdg08yUYnU"
      },
      "source": [
        "def plot_accuracies(methods, histories):\n",
        "  train_accs, val_accs = [], []\n",
        "  for method, history in zip(methods, histories):\n",
        "    train_accs.append(history.history[\"accuracy\"][-1])\n",
        "    val_accs.append(history.history[\"val_accuracy\"][-1])\n",
        "\n",
        "  xs = np.arange(len(methods))\n",
        "  width = 0.35\n",
        "  plt.bar(xs, train_accs, width, color=\"b\", label=\"train\")\n",
        "  plt.bar(xs+width, val_accs, width, color=\"orange\", label=\"val\")\n",
        "  plt.axhline(y=train_accs[0], linestyle=\"--\", color=\"b\", xmin=0, xmax=1)\n",
        "  plt.axhline(y=val_accs[0], linestyle=\"--\", color=\"orange\", xmin=0, xmax=1)\n",
        "  plt.ylabel(\"accuracy\")\n",
        "  plt.xticks(xs, methods, rotation=90)\n",
        "  plt.legend(loc=\"best\")\n",
        "  _ = plt.show()\n",
        "\n",
        "def list_scores(methods, scores):\n",
        "  for method, score in zip(methods, scores):\n",
        "    print(\"{:s}: {:.5f}\".format(method, score[1]))"
      ],
      "execution_count": 43,
      "outputs": []
    },
    {
      "cell_type": "code",
      "metadata": {
        "id": "GUylKTDRW2LV"
      },
      "source": [
        "tasks = [\"vgg16\", \"vgg16+data\", \"vgg16+data+clr\"]\n",
        "\n",
        "# TODO: create a list of history and score objects similar to tasks above\n",
        "histories = [history_t1, history_t2, history_t3]\n",
        "scores = [scores_t1, scores_t2, scores_t3]"
      ],
      "execution_count": 44,
      "outputs": []
    },
    {
      "cell_type": "code",
      "metadata": {
        "id": "1LtrIn-LXGRB",
        "colab": {
          "base_uri": "https://localhost:8080/",
          "height": 338
        },
        "outputId": "85407924-dcfc-4903-9e3e-39baa08994f5"
      },
      "source": [
        "# TODO: plot the training and validation accuracies for each training;\n",
        "#       call plot_accuracies()\n",
        "plot_accuracies(tasks, histories)"
      ],
      "execution_count": 45,
      "outputs": [
        {
          "output_type": "display_data",
          "data": {
            "image/png": "[encoded data removed]",
            "text/plain": [
              "<Figure size 432x288 with 1 Axes>"
            ]
          },
          "metadata": {
            "tags": [],
            "needs_background": "light"
          }
        }
      ]
    },
    {
      "cell_type": "code",
      "metadata": {
        "id": "9ft90EteXbLq",
        "colab": {
          "base_uri": "https://localhost:8080/"
        },
        "outputId": "d2a5f77a-72a8-4ffb-c0ec-19cc50178615"
      },
      "source": [
        "# TODO: list final test set evaluation scores for each trained model;\n",
        "#       call list_scores()\n",
        "list_scores(tasks, scores)"
      ],
      "execution_count": 46,
      "outputs": [
        {
          "output_type": "stream",
          "text": [
            "vgg16: 0.67490\n",
            "vgg16+data: 0.66550\n",
            "vgg16+data+clr: 0.66890\n"
          ],
          "name": "stdout"
        }
      ]
    },
    {
      "cell_type": "code",
      "metadata": {
        "id": "F0lAmSfFXzn0"
      },
      "source": [
        ""
      ],
      "execution_count": null,
      "outputs": []
    }
  ]
}